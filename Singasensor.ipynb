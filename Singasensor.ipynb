{
 "metadata": {
  "name": "",
  "signature": "sha256:3c1900f762b858fb78848f92a645c48672f7ca64e335b6504bf07355d93653d3"
 },
 "nbformat": 3,
 "nbformat_minor": 0,
 "worksheets": [
  {
   "cells": [
    {
     "cell_type": "code",
     "collapsed": false,
     "input": [
      "import pandas as pd\n",
      "import datetime\n",
      "import time\n",
      "from urllib2 import Request, urlopen, URLError\n",
      "import csv\n",
      "import json\n",
      "    \n",
      "starttime = datetime.datetime.now().strftime('%m_%d_%Y_%H_%M_%S')\n",
      "lengthofstorage = 10000 #length of time to collect data (in sec)\n",
      "frequency = 30 #time between readings\n",
      "    \n",
      "print \"Starting trending at \"+str(starttime)+\" for \"+str(lengthofstorage)+\" seconds at \"+str(frequency)+\" second intervals\"\n",
      "    \n",
      "filename = starttime+\"KitCalibration.csv\"\n",
      "            #set your own zip code\n",
      "#\"54ff6e066678574930451067\": \"DALE\",  \n",
      "    \n",
      "deviceID = {\"54ff6e066678574930451067\": \"DALE\",\"54ff6c066672524838271267\" : \"GANZHI\", \"54ff6f066672524834591267\" : \"CLETUS\", \"54ff69066672524819131167\" : \"STARBUCK\", \"54ff6a066672524834581267\" : \"TEKANAN\"}\n",
      "\n",
      "#deviceID = {\"54ff69066672524819131167\" : \"STARBUCK\"}\n",
      "#Measurements = [\"NOX_voltage\", \"CO2_voltage\", \"CO_voltage\", \"O3_voltage\", \"PART_voltage\", \"temp\", \"hum\", \"FORM_voltage\", \"VOC_voltage\"]\n",
      "Measurements = [\"NOX_voltage\", \"CO_voltage\", \"O3_voltage\",\"FORM_voltage\", \"VOC_voltage\"]\n",
      "access_token = '5703d71eab3d5437b38bfa5c5be75ee5c0e86e3b'\n",
      "    \n",
      "print \"Create file named \"+filename+\" -- you'll only be able to open to see the data once the file is finished\"\n",
      "    \n",
      "#Open a file and write a line to it each time a value is retreived\n",
      "with open(filename, \"a\") as file:\n",
      "        writer = csv.writer(file, delimiter = \",\")\n",
      "        end = time.time() + lengthofstorage\n",
      "        index = ('timestamp', 'Device', 'Variable', 'Value')\n",
      "        writer.writerow(index)\n",
      "        #The while loop will run until the current time + length of storage\n",
      "        while True:\n",
      "            if time.time() > end:\n",
      "                break\n",
      "            else:\n",
      "                \n",
      "                for i in deviceID.keys():\n",
      "                    url = 'https://api.spark.io/v1/devices/' + i + '/?access_token=' + access_token\n",
      "                    try:\n",
      "                        response = urlopen(url)\n",
      "                        string = response.read()\n",
      "                        JSON_response = json.loads(string)\n",
      "                        value = JSON_response['variables']\n",
      "                        print value\n",
      "                    except URLError, e:\n",
      "                        print 'Got an error code:', e\n",
      "                        continue\n",
      "                    for k in value.keys():\n",
      "                        \n",
      "                        url = 'https://api.spark.io/v1/devices/' + i + '/' + k + '?access_token=' + access_token\n",
      "                        #print url\n",
      "                        response = urlopen(url)\n",
      "                        string = response.read()\n",
      "                        JSON_response = json.loads(string)\n",
      "                        value = JSON_response['result']\n",
      "    \n",
      "                        try:\n",
      "                        \n",
      "                            #get raw data from request\n",
      "                            response = urlopen(url)\n",
      "                            string = response.read()\n",
      "                            JSON_response = json.loads(string)\n",
      "                            value = JSON_response['result']    \n",
      "                    \n",
      "                            #Set the 'timestamp' to the datatime now (from the server)\n",
      "                            timestamp = datetime.datetime.now().strftime('%m/%d/%Y %H:%M:%S')\n",
      "                            all_data =[timestamp, deviceID.get(i), k, value]\n",
      "                            print \"storing value: \"\n",
      "                            print all_data\n",
      "                    \n",
      "                            #Write a row to the file\n",
      "                            writer.writerow(all_data)\n",
      "                    \n",
      "                        #if there is an error in reaching the API then throw an error message\n",
      "                        except URLError, e:\n",
      "                            print 'Got an error code:', e\n",
      "                            continue\n",
      "                    \n",
      "    \n",
      "                #put the while loop to sleep for the length between readings\n",
      "                time.sleep(frequency)"
     ],
     "language": "python",
     "metadata": {},
     "outputs": [
      {
       "output_type": "stream",
       "stream": "stdout",
       "text": [
        "Starting trending at 09_03_2015_20_04_45 for 10000 seconds at 30 second intervals\n",
        "Create file named 09_03_2015_20_04_45KitCalibration.csv -- you'll only be able to open to see the data once the file is finished\n",
        "{u'CO2': u'double', u'CO': u'double', u'FORM': u'double', u'temp': u'double', u'VOC': u'double', u'hum': u'double', u'PART': u'double', u'O3': u'double', u'NO2': u'double'}"
       ]
      },
      {
       "output_type": "stream",
       "stream": "stdout",
       "text": [
        "\n",
        "storing value: "
       ]
      },
      {
       "output_type": "stream",
       "stream": "stdout",
       "text": [
        "\n",
        "['09/03/2015 20:04:49', 'CLETUS', u'CO2', 33315.358777173795]\n",
        "storing value: "
       ]
      },
      {
       "output_type": "stream",
       "stream": "stdout",
       "text": [
        "\n",
        "['09/03/2015 20:04:53', 'CLETUS', u'CO', 2.5961313953127774]\n",
        "storing value: "
       ]
      },
      {
       "output_type": "stream",
       "stream": "stdout",
       "text": [
        "\n",
        "['09/03/2015 20:05:09', 'CLETUS', u'FORM', 0.5229893210568494]\n",
        "storing value: "
       ]
      },
      {
       "output_type": "stream",
       "stream": "stdout",
       "text": [
        "\n",
        "['09/03/2015 20:05:13', 'CLETUS', u'temp', 23.93000030517578]\n",
        "storing value: "
       ]
      },
      {
       "output_type": "stream",
       "stream": "stdout",
       "text": [
        "\n",
        "['09/03/2015 20:05:17', 'CLETUS', u'VOC', 0]\n",
        "storing value: "
       ]
      },
      {
       "output_type": "stream",
       "stream": "stdout",
       "text": [
        "\n",
        "['09/03/2015 20:05:21', 'CLETUS', u'hum', 56.262939453125]\n",
        "storing value: "
       ]
      },
      {
       "output_type": "stream",
       "stream": "stdout",
       "text": [
        "\n",
        "['09/03/2015 20:05:25', 'CLETUS', u'PART', 0.6200000047683716]\n",
        "storing value: "
       ]
      },
      {
       "output_type": "stream",
       "stream": "stdout",
       "text": [
        "\n",
        "['09/03/2015 20:05:28', 'CLETUS', u'O3', 140.18555312205555]\n",
        "storing value: "
       ]
      },
      {
       "output_type": "stream",
       "stream": "stdout",
       "text": [
        "\n",
        "['09/03/2015 20:05:32', 'CLETUS', u'NO2', 0.22601909021878772]\n",
        "{u'CO2': u'double', u'CO': u'double', u'FORM': u'double', u'temp': u'double', u'VOC': u'double', u'hum': u'double', u'PART': u'double', u'O3': u'double', u'NO2': u'double'}"
       ]
      },
      {
       "output_type": "stream",
       "stream": "stdout",
       "text": [
        "\n",
        "storing value: "
       ]
      },
      {
       "output_type": "stream",
       "stream": "stdout",
       "text": [
        "\n",
        "['09/03/2015 20:05:37', 'TEKANAN', u'CO2', 627.3768786238506]\n",
        "storing value: "
       ]
      },
      {
       "output_type": "stream",
       "stream": "stdout",
       "text": [
        "\n",
        "['09/03/2015 20:05:41', 'TEKANAN', u'CO', 3.165396997066609]\n",
        "storing value: "
       ]
      },
      {
       "output_type": "stream",
       "stream": "stdout",
       "text": [
        "\n",
        "['09/03/2015 20:05:45', 'TEKANAN', u'FORM', 1.0008354871155871]\n",
        "storing value: "
       ]
      },
      {
       "output_type": "stream",
       "stream": "stdout",
       "text": [
        "\n",
        "['09/03/2015 20:05:49', 'TEKANAN', u'temp', 24.37999725341797]\n",
        "storing value: "
       ]
      },
      {
       "output_type": "stream",
       "stream": "stdout",
       "text": [
        "\n",
        "['09/03/2015 20:05:53', 'TEKANAN', u'VOC', 0.0006485469295093962]\n",
        "storing value: "
       ]
      },
      {
       "output_type": "stream",
       "stream": "stdout",
       "text": [
        "\n",
        "['09/03/2015 20:05:57', 'TEKANAN', u'hum', 54.176307678222656]\n",
        "storing value: "
       ]
      },
      {
       "output_type": "stream",
       "stream": "stdout",
       "text": [
        "\n",
        "['09/03/2015 20:06:10', 'TEKANAN', u'PART', 0.6200000047683716]\n",
        "storing value: "
       ]
      },
      {
       "output_type": "stream",
       "stream": "stdout",
       "text": [
        "\n",
        "['09/03/2015 20:06:14', 'TEKANAN', u'O3', 117.17756885700027]\n",
        "storing value: "
       ]
      },
      {
       "output_type": "stream",
       "stream": "stdout",
       "text": [
        "\n",
        "['09/03/2015 20:06:18', 'TEKANAN', u'NO2', 0.1664047179551181]\n",
        "{u'CO2': u'double', u'CO': u'double', u'FORM': u'double', u'temp': u'double', u'VOC': u'double', u'hum': u'double', u'PART': u'double', u'O3': u'double', u'NO2': u'double'}"
       ]
      },
      {
       "output_type": "stream",
       "stream": "stdout",
       "text": [
        "\n",
        "storing value: "
       ]
      },
      {
       "output_type": "stream",
       "stream": "stdout",
       "text": [
        "\n",
        "['09/03/2015 20:06:24', 'DALE', u'CO2', 21594.348528987728]\n",
        "storing value: "
       ]
      },
      {
       "output_type": "stream",
       "stream": "stdout",
       "text": [
        "\n",
        "['09/03/2015 20:06:27', 'DALE', u'CO', 2.4348990579359127]\n",
        "storing value: "
       ]
      },
      {
       "output_type": "stream",
       "stream": "stdout",
       "text": [
        "\n",
        "['09/03/2015 20:06:31', 'DALE', u'FORM', 1.4566300648211161]\n",
        "storing value: "
       ]
      },
      {
       "output_type": "stream",
       "stream": "stdout",
       "text": [
        "\n",
        "['09/03/2015 20:06:45', 'DALE', u'temp', 615.25]\n",
        "storing value: "
       ]
      },
      {
       "output_type": "stream",
       "stream": "stdout",
       "text": [
        "\n",
        "['09/03/2015 20:06:49', 'DALE', u'VOC', 0]\n",
        "storing value: "
       ]
      },
      {
       "output_type": "stream",
       "stream": "stdout",
       "text": [
        "\n",
        "['09/03/2015 20:06:54', 'DALE', u'hum', -1348.8580322265625]\n",
        "storing value: "
       ]
      },
      {
       "output_type": "stream",
       "stream": "stdout",
       "text": [
        "\n",
        "['09/03/2015 20:06:57', 'DALE', u'PART', 0.6200000047683716]\n",
        "storing value: "
       ]
      },
      {
       "output_type": "stream",
       "stream": "stdout",
       "text": [
        "\n",
        "['09/03/2015 20:07:01', 'DALE', u'O3', 147.02623319553095]\n",
        "storing value: "
       ]
      },
      {
       "output_type": "stream",
       "stream": "stdout",
       "text": [
        "\n",
        "['09/03/2015 20:07:04', 'DALE', u'NO2', 0.1804342086235098]\n",
        "{u'CO2': u'double', u'CO': u'double', u'FORM': u'double', u'temp': u'double', u'VOC': u'double', u'hum': u'double', u'PART': u'double', u'O3': u'double', u'NO2': u'double'}"
       ]
      },
      {
       "output_type": "stream",
       "stream": "stdout",
       "text": [
        "\n",
        "storing value: "
       ]
      },
      {
       "output_type": "stream",
       "stream": "stdout",
       "text": [
        "\n",
        "['09/03/2015 20:07:11', 'STARBUCK', u'CO2', 1043891.9819759093]\n",
        "storing value: "
       ]
      },
      {
       "output_type": "stream",
       "stream": "stdout",
       "text": [
        "\n",
        "['09/03/2015 20:07:15', 'STARBUCK', u'CO', 2.3967302911302597]\n",
        "storing value: "
       ]
      },
      {
       "output_type": "stream",
       "stream": "stdout",
       "text": [
        "\n",
        "['09/03/2015 20:07:19', 'STARBUCK', u'FORM', 0.368942699111076]\n",
        "storing value: "
       ]
      },
      {
       "output_type": "stream",
       "stream": "stdout",
       "text": [
        "\n",
        "['09/03/2015 20:07:23', 'STARBUCK', u'temp', 23.830001831054688]\n",
        "storing value: "
       ]
      },
      {
       "output_type": "stream",
       "stream": "stdout",
       "text": [
        "\n",
        "['09/03/2015 20:07:26', 'STARBUCK', u'VOC', 0]\n",
        "storing value: "
       ]
      },
      {
       "output_type": "stream",
       "stream": "stdout",
       "text": [
        "\n",
        "['09/03/2015 20:07:30', 'STARBUCK', u'hum', 56.916831970214844]\n",
        "storing value: "
       ]
      },
      {
       "output_type": "stream",
       "stream": "stdout",
       "text": [
        "\n",
        "['09/03/2015 20:07:46', 'STARBUCK', u'PART', 0.6200000047683716]\n",
        "storing value: "
       ]
      },
      {
       "output_type": "stream",
       "stream": "stdout",
       "text": [
        "\n",
        "['09/03/2015 20:07:50', 'STARBUCK', u'O3', 151.56798140772798]\n",
        "storing value: "
       ]
      },
      {
       "output_type": "stream",
       "stream": "stdout",
       "text": [
        "\n",
        "['09/03/2015 20:07:54', 'STARBUCK', u'NO2', 0.2461796164734185]\n",
        "{u'CO2': u'double', u'CO': u'double', u'FORM': u'double', u'temp': u'double', u'VOC': u'double', u'hum': u'double', u'PART': u'double', u'O3': u'double', u'NO2': u'double'}"
       ]
      },
      {
       "output_type": "stream",
       "stream": "stdout",
       "text": [
        "\n",
        "storing value: "
       ]
      },
      {
       "output_type": "stream",
       "stream": "stdout",
       "text": [
        "\n",
        "['09/03/2015 20:07:59', 'GANZHI', u'CO2', 52720.77364446875]\n",
        "storing value: "
       ]
      },
      {
       "output_type": "stream",
       "stream": "stdout",
       "text": [
        "\n",
        "['09/03/2015 20:08:03', 'GANZHI', u'CO', 2.970601092018752]\n",
        "storing value: "
       ]
      },
      {
       "output_type": "stream",
       "stream": "stdout",
       "text": [
        "\n",
        "['09/03/2015 20:08:14', 'GANZHI', u'FORM', 0.624992873856692]\n",
        "storing value: "
       ]
      },
      {
       "output_type": "stream",
       "stream": "stdout",
       "text": [
        "\n",
        "['09/03/2015 20:08:18', 'GANZHI', u'temp', 23.150001525878906]\n",
        "storing value: "
       ]
      },
      {
       "output_type": "stream",
       "stream": "stdout",
       "text": [
        "\n",
        "['09/03/2015 20:08:22', 'GANZHI', u'VOC', 0]\n",
        "storing value: "
       ]
      },
      {
       "output_type": "stream",
       "stream": "stdout",
       "text": [
        "\n",
        "['09/03/2015 20:08:26', 'GANZHI', u'hum', 59.10513687133789]\n",
        "storing value: "
       ]
      },
      {
       "output_type": "stream",
       "stream": "stdout",
       "text": [
        "\n",
        "['09/03/2015 20:08:30', 'GANZHI', u'PART', 1305.79638671875]\n",
        "storing value: "
       ]
      },
      {
       "output_type": "stream",
       "stream": "stdout",
       "text": [
        "\n",
        "['09/03/2015 20:08:34', 'GANZHI', u'O3', 148.14176916955512]\n",
        "storing value: "
       ]
      },
      {
       "output_type": "stream",
       "stream": "stdout",
       "text": [
        "\n",
        "['09/03/2015 20:08:40', 'GANZHI', u'NO2', 0.2371759132098714]\n",
        "{u'CO2': u'double', u'CO': u'double', u'FORM': u'double', u'temp': u'double', u'VOC': u'double', u'hum': u'double', u'PART': u'double', u'O3': u'double', u'NO2': u'double'}"
       ]
      },
      {
       "output_type": "stream",
       "stream": "stdout",
       "text": [
        "\n",
        "storing value: "
       ]
      },
      {
       "output_type": "stream",
       "stream": "stdout",
       "text": [
        "\n",
        "['09/03/2015 20:09:26', 'CLETUS', u'CO2', 25794.917432996444]\n",
        "storing value: "
       ]
      },
      {
       "output_type": "stream",
       "stream": "stdout",
       "text": [
        "\n",
        "['09/03/2015 20:09:30', 'CLETUS', u'CO', 2.5918063463583567]\n",
        "storing value: "
       ]
      },
      {
       "output_type": "stream",
       "stream": "stdout",
       "text": [
        "\n",
        "['09/03/2015 20:09:34', 'CLETUS', u'FORM', 0.14544428008252738]\n",
        "storing value: "
       ]
      },
      {
       "output_type": "stream",
       "stream": "stdout",
       "text": [
        "\n",
        "['09/03/2015 20:09:38', 'CLETUS', u'temp', 23.849998474121094]\n",
        "storing value: "
       ]
      },
      {
       "output_type": "stream",
       "stream": "stdout",
       "text": [
        "\n",
        "['09/03/2015 20:09:42', 'CLETUS', u'VOC', 0]\n",
        "storing value: "
       ]
      },
      {
       "output_type": "stream",
       "stream": "stdout",
       "text": [
        "\n",
        "['09/03/2015 20:09:45', 'CLETUS', u'hum', 56.61971664428711]\n",
        "storing value: "
       ]
      },
      {
       "output_type": "stream",
       "stream": "stdout",
       "text": [
        "\n",
        "['09/03/2015 20:09:49', 'CLETUS', u'PART', 0.6200000047683716]\n",
        "storing value: "
       ]
      },
      {
       "output_type": "stream",
       "stream": "stdout",
       "text": [
        "\n",
        "['09/03/2015 20:10:05', 'CLETUS', u'O3', 139.96380901829878]\n",
        "storing value: "
       ]
      },
      {
       "output_type": "stream",
       "stream": "stdout",
       "text": [
        "\n",
        "['09/03/2015 20:10:10', 'CLETUS', u'NO2', 0.22634065632573627]\n",
        "{u'CO2': u'double', u'CO': u'double', u'FORM': u'double', u'temp': u'double', u'VOC': u'double', u'hum': u'double', u'PART': u'double', u'O3': u'double', u'NO2': u'double'}"
       ]
      },
      {
       "output_type": "stream",
       "stream": "stdout",
       "text": [
        "\n",
        "storing value: "
       ]
      },
      {
       "output_type": "stream",
       "stream": "stdout",
       "text": [
        "\n",
        "['09/03/2015 20:10:19', 'TEKANAN', u'CO2', 645.5674293553457]\n",
        "storing value: "
       ]
      },
      {
       "output_type": "stream",
       "stream": "stdout",
       "text": [
        "\n",
        "['09/03/2015 20:10:23', 'TEKANAN', u'CO', 3.177483198805445]\n",
        "storing value: "
       ]
      },
      {
       "output_type": "stream",
       "stream": "stdout",
       "text": [
        "\n",
        "['09/03/2015 20:10:27', 'TEKANAN', u'FORM', 1.0831758117707089]\n",
        "storing value: "
       ]
      },
      {
       "output_type": "stream",
       "stream": "stdout",
       "text": [
        "\n",
        "['09/03/2015 20:10:31', 'TEKANAN', u'temp', 24.19000244140625]\n",
        "storing value: "
       ]
      },
      {
       "output_type": "stream",
       "stream": "stdout",
       "text": [
        "\n",
        "['09/03/2015 20:10:34', 'TEKANAN', u'VOC', 0.004092233279049863]\n",
        "storing value: "
       ]
      },
      {
       "output_type": "stream",
       "stream": "stdout",
       "text": [
        "\n",
        "['09/03/2015 20:10:38', 'TEKANAN', u'hum', 54.4442253112793]\n",
        "storing value: "
       ]
      },
      {
       "output_type": "stream",
       "stream": "stdout",
       "text": [
        "\n",
        "['09/03/2015 20:10:52', 'TEKANAN', u'PART', 0.6200000047683716]\n",
        "storing value: "
       ]
      },
      {
       "output_type": "stream",
       "stream": "stdout",
       "text": [
        "\n",
        "['09/03/2015 20:10:56', 'TEKANAN', u'O3', 116.76936205191211]\n",
        "storing value: "
       ]
      },
      {
       "output_type": "stream",
       "stream": "stdout",
       "text": [
        "\n",
        "['09/03/2015 20:11:00', 'TEKANAN', u'NO2', 0.16607774092668287]\n",
        "{u'CO2': u'double', u'CO': u'double', u'FORM': u'double', u'temp': u'double', u'VOC': u'double', u'hum': u'double', u'PART': u'double', u'O3': u'double', u'NO2': u'double'}"
       ]
      },
      {
       "output_type": "stream",
       "stream": "stdout",
       "text": [
        "\n",
        "storing value: "
       ]
      },
      {
       "output_type": "stream",
       "stream": "stdout",
       "text": [
        "\n",
        "['09/03/2015 20:11:09', 'DALE', u'CO2', 9717.382435228676]\n",
        "storing value: "
       ]
      },
      {
       "output_type": "stream",
       "stream": "stdout",
       "text": [
        "\n",
        "['09/03/2015 20:11:13', 'DALE', u'CO', 2.455104543692077]\n",
        "storing value: "
       ]
      },
      {
       "output_type": "stream",
       "stream": "stdout",
       "text": [
        "\n",
        "['09/03/2015 20:11:18', 'DALE', u'FORM', 0.7536430652349176]\n",
        "storing value: "
       ]
      },
      {
       "output_type": "stream",
       "stream": "stdout",
       "text": [
        "\n",
        "['09/03/2015 20:11:21', 'DALE', u'temp', 615.25]\n",
        "storing value: "
       ]
      },
      {
       "output_type": "stream",
       "stream": "stdout",
       "text": [
        "\n",
        "['09/03/2015 20:11:25', 'DALE', u'VOC', 0]\n",
        "storing value: "
       ]
      },
      {
       "output_type": "stream",
       "stream": "stdout",
       "text": [
        "\n",
        "['09/03/2015 20:11:28', 'DALE', u'hum', -1348.8580322265625]\n",
        "storing value: "
       ]
      },
      {
       "output_type": "stream",
       "stream": "stdout",
       "text": [
        "\n",
        "['09/03/2015 20:11:32', 'DALE', u'PART', 0.6200000047683716]\n",
        "storing value: "
       ]
      },
      {
       "output_type": "stream",
       "stream": "stdout",
       "text": [
        "\n",
        "['09/03/2015 20:11:47', 'DALE', u'O3', 147.72728556545084]\n",
        "storing value: "
       ]
      },
      {
       "output_type": "stream",
       "stream": "stdout",
       "text": [
        "\n",
        "['09/03/2015 20:11:51', 'DALE', u'NO2', 0.180788817976268]\n",
        "{u'CO2': u'double', u'CO': u'double', u'FORM': u'double', u'temp': u'double', u'VOC': u'double', u'hum': u'double', u'PART': u'double', u'O3': u'double', u'NO2': u'double'}"
       ]
      },
      {
       "output_type": "stream",
       "stream": "stdout",
       "text": [
        "\n",
        "storing value: "
       ]
      },
      {
       "output_type": "stream",
       "stream": "stdout",
       "text": [
        "\n",
        "['09/03/2015 20:12:05', 'STARBUCK', u'CO2', 1061538.020128482]\n",
        "storing value: "
       ]
      },
      {
       "output_type": "stream",
       "stream": "stdout",
       "text": [
        "\n",
        "['09/03/2015 20:12:09', 'STARBUCK', u'CO', 2.3967302911302597]\n",
        "storing value: "
       ]
      },
      {
       "output_type": "stream",
       "stream": "stdout",
       "text": [
        "\n",
        "['09/03/2015 20:12:13', 'STARBUCK', u'FORM', 0.41331804000984107]\n",
        "storing value: "
       ]
      },
      {
       "output_type": "stream",
       "stream": "stdout",
       "text": [
        "\n",
        "['09/03/2015 20:12:17', 'STARBUCK', u'temp', 23.830001831054688]\n",
        "storing value: "
       ]
      },
      {
       "output_type": "stream",
       "stream": "stdout",
       "text": [
        "\n",
        "['09/03/2015 20:12:21', 'STARBUCK', u'VOC', 0]\n",
        "storing value: "
       ]
      },
      {
       "output_type": "stream",
       "stream": "stdout",
       "text": [
        "\n",
        "['09/03/2015 20:12:25', 'STARBUCK', u'hum', 56.714412689208984]\n",
        "storing value: "
       ]
      },
      {
       "output_type": "stream",
       "stream": "stdout",
       "text": [
        "\n",
        "['09/03/2015 20:12:40', 'STARBUCK', u'PART', 0.6200000047683716]\n",
        "storing value: "
       ]
      },
      {
       "output_type": "stream",
       "stream": "stdout",
       "text": [
        "\n",
        "['09/03/2015 20:12:44', 'STARBUCK', u'O3', 151.84007756343402]\n",
        "storing value: "
       ]
      },
      {
       "output_type": "stream",
       "stream": "stdout",
       "text": [
        "\n",
        "['09/03/2015 20:12:48', 'STARBUCK', u'NO2', 0.24577907885764025]\n",
        "{u'CO2': u'double', u'CO': u'double', u'FORM': u'double', u'temp': u'double', u'VOC': u'double', u'hum': u'double', u'PART': u'double', u'O3': u'double', u'NO2': u'double'}"
       ]
      },
      {
       "output_type": "stream",
       "stream": "stdout",
       "text": [
        "\n",
        "storing value: "
       ]
      },
      {
       "output_type": "stream",
       "stream": "stdout",
       "text": [
        "\n",
        "['09/03/2015 20:12:52', 'GANZHI', u'CO2', 31428.830251215957]\n",
        "storing value: "
       ]
      },
      {
       "output_type": "stream",
       "stream": "stdout",
       "text": [
        "\n",
        "['09/03/2015 20:12:56', 'GANZHI', u'CO', 2.970601092018752]\n",
        "storing value: "
       ]
      },
      {
       "output_type": "stream",
       "stream": "stdout",
       "text": [
        "\n",
        "['09/03/2015 20:13:01', 'GANZHI', u'FORM', 0.5758936448183557]\n",
        "storing value: "
       ]
      },
      {
       "output_type": "stream",
       "stream": "stdout",
       "text": [
        "\n",
        "['09/03/2015 20:13:05', 'GANZHI', u'temp', 23.020000457763672]\n",
        "storing value: "
       ]
      },
      {
       "output_type": "stream",
       "stream": "stdout",
       "text": [
        "\n",
        "['09/03/2015 20:13:13', 'GANZHI', u'VOC', 0]\n",
        "storing value: "
       ]
      },
      {
       "output_type": "stream",
       "stream": "stdout",
       "text": [
        "\n",
        "['09/03/2015 20:13:17', 'GANZHI', u'hum', 59.9089241027832]\n",
        "storing value: "
       ]
      },
      {
       "output_type": "stream",
       "stream": "stdout",
       "text": [
        "\n",
        "['09/03/2015 20:13:21', 'GANZHI', u'PART', 1414.4896240234375]\n",
        "storing value: "
       ]
      },
      {
       "output_type": "stream",
       "stream": "stdout",
       "text": [
        "\n",
        "['09/03/2015 20:13:25', 'GANZHI', u'O3', 148.14176916955512]\n",
        "storing value: "
       ]
      },
      {
       "output_type": "stream",
       "stream": "stdout",
       "text": [
        "\n",
        "['09/03/2015 20:13:28', 'GANZHI', u'NO2', 0.23682925097721325]\n",
        "{u'CO2': u'double', u'CO': u'double', u'FORM': u'double', u'temp': u'double', u'VOC': u'double', u'hum': u'double', u'PART': u'double', u'O3': u'double', u'NO2': u'double'}"
       ]
      },
      {
       "output_type": "stream",
       "stream": "stdout",
       "text": [
        "\n",
        "storing value: "
       ]
      },
      {
       "output_type": "stream",
       "stream": "stdout",
       "text": [
        "\n",
        "['09/03/2015 20:14:04', 'CLETUS', u'CO2', 21118.932632134296]\n",
        "storing value: "
       ]
      },
      {
       "output_type": "stream",
       "stream": "stdout",
       "text": [
        "\n",
        "['09/03/2015 20:14:08', 'CLETUS', u'CO', 2.5961313953127774]\n",
        "storing value: "
       ]
      },
      {
       "output_type": "stream",
       "stream": "stdout",
       "text": [
        "\n",
        "['09/03/2015 20:14:21', 'CLETUS', u'FORM', 0.12390221278482053]\n",
        "storing value: "
       ]
      },
      {
       "output_type": "stream",
       "stream": "stdout",
       "text": [
        "\n",
        "['09/03/2015 20:14:25', 'CLETUS', u'temp', 24.150001525878906]\n",
        "storing value: "
       ]
      },
      {
       "output_type": "stream",
       "stream": "stdout",
       "text": [
        "\n",
        "['09/03/2015 20:14:29', 'CLETUS', u'VOC', 0]\n",
        "storing value: "
       ]
      },
      {
       "output_type": "stream",
       "stream": "stdout",
       "text": [
        "\n",
        "['09/03/2015 20:14:34', 'CLETUS', u'hum', 55.93209457397461]\n",
        "storing value: "
       ]
      },
      {
       "output_type": "stream",
       "stream": "stdout",
       "text": [
        "\n",
        "['09/03/2015 20:14:38', 'CLETUS', u'PART', 2451.48388671875]\n",
        "storing value: "
       ]
      },
      {
       "output_type": "stream",
       "stream": "stdout",
       "text": [
        "\n",
        "['09/03/2015 20:14:42', 'CLETUS', u'O3', 139.96380901829878]\n",
        "storing value: "
       ]
      },
      {
       "output_type": "stream",
       "stream": "stdout",
       "text": [
        "\n",
        "['09/03/2015 20:14:54', 'CLETUS', u'NO2', 0.22666242962734168]\n",
        "{u'CO2': u'double', u'CO': u'double', u'FORM': u'double', u'temp': u'double', u'VOC': u'double', u'hum': u'double', u'PART': u'double', u'O3': u'double', u'NO2': u'double'}"
       ]
      },
      {
       "output_type": "stream",
       "stream": "stdout",
       "text": [
        "\n",
        "storing value: "
       ]
      },
      {
       "output_type": "stream",
       "stream": "stdout",
       "text": [
        "\n",
        "['09/03/2015 20:15:02', 'TEKANAN', u'CO2', 647.6878759032115]\n",
        "storing value: "
       ]
      },
      {
       "output_type": "stream",
       "stream": "stdout",
       "text": [
        "\n",
        "['09/03/2015 20:15:06', 'TEKANAN', u'CO', 3.177483198805445]\n",
        "storing value: "
       ]
      },
      {
       "output_type": "stream",
       "stream": "stdout",
       "text": [
        "\n",
        "['09/03/2015 20:15:10', 'TEKANAN', u'FORM', 1.450591887917716]\n",
        "storing value: "
       ]
      },
      {
       "output_type": "stream",
       "stream": "stdout",
       "text": [
        "\n",
        "['09/03/2015 20:15:14', 'TEKANAN', u'temp', 24.19000244140625]\n",
        "storing value: "
       ]
      },
      {
       "output_type": "stream",
       "stream": "stdout",
       "text": [
        "\n",
        "['09/03/2015 20:15:20', 'TEKANAN', u'VOC', 0.0020732397825498515]\n",
        "storing value: "
       ]
      },
      {
       "output_type": "stream",
       "stream": "stdout",
       "text": [
        "\n",
        "['09/03/2015 20:15:24', 'TEKANAN', u'hum', 54.489871978759766]\n",
        "storing value: "
       ]
      },
      {
       "output_type": "stream",
       "stream": "stdout",
       "text": [
        "\n",
        "['09/03/2015 20:15:39', 'TEKANAN', u'PART', 0.6200000047683716]\n",
        "storing value: "
       ]
      },
      {
       "output_type": "stream",
       "stream": "stdout",
       "text": [
        "\n",
        "['09/03/2015 20:15:43', 'TEKANAN', u'O3', 116.97334951419273]\n",
        "storing value: "
       ]
      },
      {
       "output_type": "stream",
       "stream": "stdout",
       "text": [
        "\n",
        "['09/03/2015 20:15:47', 'TEKANAN', u'NO2', 0.16624115343508267]\n",
        "{u'CO2': u'double', u'CO': u'double', u'FORM': u'double', u'temp': u'double', u'VOC': u'double', u'hum': u'double', u'PART': u'double', u'O3': u'double', u'NO2': u'double'}"
       ]
      },
      {
       "output_type": "stream",
       "stream": "stdout",
       "text": [
        "\n",
        "storing value: "
       ]
      },
      {
       "output_type": "stream",
       "stream": "stdout",
       "text": [
        "\n",
        "['09/03/2015 20:15:52', 'DALE', u'CO2', 4877.705756242387]\n",
        "storing value: "
       ]
      },
      {
       "output_type": "stream",
       "stream": "stdout",
       "text": [
        "\n",
        "['09/03/2015 20:15:56', 'DALE', u'CO', 2.4591753435556822]\n",
        "storing value: "
       ]
      },
      {
       "output_type": "stream",
       "stream": "stdout",
       "text": [
        "\n",
        "['09/03/2015 20:16:00', 'DALE', u'FORM', 0.5448051384356235]\n",
        "storing value: "
       ]
      },
      {
       "output_type": "stream",
       "stream": "stdout",
       "text": [
        "\n",
        "['09/03/2015 20:16:14', 'DALE', u'temp', 615.25]\n",
        "storing value: "
       ]
      },
      {
       "output_type": "stream",
       "stream": "stdout",
       "text": [
        "\n",
        "['09/03/2015 20:16:18', 'DALE', u'VOC', 0]\n",
        "storing value: "
       ]
      },
      {
       "output_type": "stream",
       "stream": "stdout",
       "text": [
        "\n",
        "['09/03/2015 20:16:22', 'DALE', u'hum', -1348.8580322265625]\n",
        "storing value: "
       ]
      },
      {
       "output_type": "stream",
       "stream": "stdout",
       "text": [
        "\n",
        "['09/03/2015 20:16:26', 'DALE', u'PART', 0.6200000047683716]\n",
        "storing value: "
       ]
      },
      {
       "output_type": "stream",
       "stream": "stdout",
       "text": [
        "\n",
        "['09/03/2015 20:16:30', 'DALE', u'O3', 147.49332981740406]\n",
        "storing value: "
       ]
      },
      {
       "output_type": "stream",
       "stream": "stdout",
       "text": [
        "\n",
        "['09/03/2015 20:16:33', 'DALE', u'NO2', 0.18061142634320598]\n",
        "{u'CO2': u'double', u'CO': u'double', u'FORM': u'double', u'temp': u'double', u'VOC': u'double', u'hum': u'double', u'PART': u'double', u'O3': u'double', u'NO2': u'double'}"
       ]
      },
      {
       "output_type": "stream",
       "stream": "stdout",
       "text": [
        "\n",
        "storing value: "
       ]
      },
      {
       "output_type": "stream",
       "stream": "stdout",
       "text": [
        "\n",
        "['09/03/2015 20:16:38', 'STARBUCK', u'CO2', 1063151.9892066596]\n",
        "storing value: "
       ]
      },
      {
       "output_type": "stream",
       "stream": "stdout",
       "text": [
        "\n",
        "['09/03/2015 20:16:53', 'STARBUCK', u'CO', 2.387911246109275]\n",
        "storing value: "
       ]
      },
      {
       "output_type": "stream",
       "stream": "stdout",
       "text": [
        "\n",
        "['09/03/2015 20:16:56', 'STARBUCK', u'FORM', 0.7423156848384884]\n",
        "storing value: "
       ]
      },
      {
       "output_type": "stream",
       "stream": "stdout",
       "text": [
        "\n",
        "['09/03/2015 20:17:00', 'STARBUCK', u'temp', 23.56999969482422]\n",
        "storing value: "
       ]
      },
      {
       "output_type": "stream",
       "stream": "stdout",
       "text": [
        "\n",
        "['09/03/2015 20:17:04', 'STARBUCK', u'VOC', 0]\n",
        "storing value: "
       ]
      },
      {
       "output_type": "stream",
       "stream": "stdout",
       "text": [
        "\n",
        "['09/03/2015 20:17:08', 'STARBUCK', u'hum', 57.528533935546875]\n",
        "storing value: "
       ]
      },
      {
       "output_type": "stream",
       "stream": "stdout",
       "text": [
        "\n",
        "['09/03/2015 20:17:12', 'STARBUCK', u'PART', 0.6200000047683716]\n",
        "storing value: "
       ]
      },
      {
       "output_type": "stream",
       "stream": "stdout",
       "text": [
        "\n",
        "['09/03/2015 20:17:16', 'STARBUCK', u'O3', 152.65845432181908]\n",
        "storing value: "
       ]
      },
      {
       "output_type": "stream",
       "stream": "stdout",
       "text": [
        "\n",
        "['09/03/2015 20:17:31', 'STARBUCK', u'NO2', 0.24658042647111836]\n",
        "{u'CO2': u'double', u'CO': u'double', u'FORM': u'double', u'temp': u'double', u'VOC': u'double', u'hum': u'double', u'PART': u'double', u'O3': u'double', u'NO2': u'double'}"
       ]
      },
      {
       "output_type": "stream",
       "stream": "stdout",
       "text": [
        "\n",
        "storing value: "
       ]
      },
      {
       "output_type": "stream",
       "stream": "stdout",
       "text": [
        "\n",
        "['09/03/2015 20:17:36', 'GANZHI', u'CO2', 20650.632100909017]\n",
        "storing value: "
       ]
      },
      {
       "output_type": "stream",
       "stream": "stdout",
       "text": [
        "\n",
        "['09/03/2015 20:17:40', 'GANZHI', u'CO', 3.0051601225899316]\n",
        "storing value: "
       ]
      },
      {
       "output_type": "stream",
       "stream": "stdout",
       "text": [
        "\n",
        "['09/03/2015 20:17:54', 'GANZHI', u'FORM', 0.5290861142297777]\n",
        "storing value: "
       ]
      },
      {
       "output_type": "stream",
       "stream": "stdout",
       "text": [
        "\n",
        "['09/03/2015 20:17:58', 'GANZHI', u'temp', 22.950000762939453]\n",
        "storing value: "
       ]
      },
      {
       "output_type": "stream",
       "stream": "stdout",
       "text": [
        "\n",
        "['09/03/2015 20:18:02', 'GANZHI', u'VOC', 0]\n",
        "storing value: "
       ]
      },
      {
       "output_type": "stream",
       "stream": "stdout",
       "text": [
        "\n",
        "['09/03/2015 20:18:06', 'GANZHI', u'hum', 59.746971130371094]\n",
        "storing value: "
       ]
      },
      {
       "output_type": "stream",
       "stream": "stdout",
       "text": [
        "\n",
        "['09/03/2015 20:18:09', 'GANZHI', u'PART', 1095.9381103515625]\n",
        "storing value: "
       ]
      },
      {
       "output_type": "stream",
       "stream": "stdout",
       "text": [
        "\n",
        "['09/03/2015 20:18:13', 'GANZHI', u'O3', 148.62323338888464]\n",
        "storing value: "
       ]
      },
      {
       "output_type": "stream",
       "stream": "stdout",
       "text": [
        "\n",
        "['09/03/2015 20:18:29', 'GANZHI', u'NO2', 0.2375227965281369]\n",
        "{u'CO2': u'double', u'CO': u'double', u'FORM': u'double', u'temp': u'double', u'VOC': u'double', u'hum': u'double', u'PART': u'double', u'O3': u'double', u'NO2': u'double'}"
       ]
      },
      {
       "output_type": "stream",
       "stream": "stdout",
       "text": [
        "\n",
        "storing value: "
       ]
      },
      {
       "output_type": "stream",
       "stream": "stdout",
       "text": [
        "\n",
        "['09/03/2015 20:19:04', 'CLETUS', u'CO2', 18629.914871319197]\n",
        "storing value: "
       ]
      },
      {
       "output_type": "stream",
       "stream": "stdout",
       "text": [
        "\n",
        "['09/03/2015 20:19:08', 'CLETUS', u'CO', 2.5961313953127774]\n",
        "storing value: "
       ]
      },
      {
       "output_type": "stream",
       "stream": "stdout",
       "text": [
        "\n",
        "['09/03/2015 20:19:13', 'CLETUS', u'FORM', 0.1945540467233367]\n",
        "storing value: "
       ]
      },
      {
       "output_type": "stream",
       "stream": "stdout",
       "text": [
        "\n",
        "['09/03/2015 20:19:17', 'CLETUS', u'temp', 24.349998474121094]\n",
        "storing value: "
       ]
      },
      {
       "output_type": "stream",
       "stream": "stdout",
       "text": [
        "\n",
        "['09/03/2015 20:19:21', 'CLETUS', u'VOC', 0]\n",
        "storing value: "
       ]
      },
      {
       "output_type": "stream",
       "stream": "stdout",
       "text": [
        "\n",
        "['09/03/2015 20:19:25', 'CLETUS', u'hum', 55.45718765258789]\n",
        "storing value: "
       ]
      },
      {
       "output_type": "stream",
       "stream": "stdout",
       "text": [
        "\n",
        "['09/03/2015 20:19:29', 'CLETUS', u'PART', 1843.951904296875]\n",
        "storing value: "
       ]
      },
      {
       "output_type": "stream",
       "stream": "stdout",
       "text": [
        "\n",
        "['09/03/2015 20:19:33', 'CLETUS', u'O3', 140.18555312205555]\n",
        "storing value: "
       ]
      },
      {
       "output_type": "stream",
       "stream": "stdout",
       "text": [
        "\n",
        "['09/03/2015 20:19:37', 'CLETUS', u'NO2', 0.22601909021878772]\n",
        "{u'CO2': u'double', u'CO': u'double', u'FORM': u'double', u'temp': u'double', u'VOC': u'double', u'hum': u'double', u'PART': u'double', u'O3': u'double', u'NO2': u'double'}"
       ]
      },
      {
       "output_type": "stream",
       "stream": "stdout",
       "text": [
        "\n",
        "storing value: "
       ]
      },
      {
       "output_type": "stream",
       "stream": "stdout",
       "text": [
        "\n",
        "['09/03/2015 20:19:46', 'TEKANAN', u'CO2', 640.2640724843368]\n",
        "storing value: "
       ]
      },
      {
       "output_type": "stream",
       "stream": "stdout",
       "text": [
        "\n",
        "['09/03/2015 20:19:50', 'TEKANAN', u'CO', 3.165396997066609]\n",
        "storing value: "
       ]
      },
      {
       "output_type": "stream",
       "stream": "stdout",
       "text": [
        "\n",
        "['09/03/2015 20:19:54', 'TEKANAN', u'FORM', 1.3529419152021185]\n",
        "storing value: "
       ]
      },
      {
       "output_type": "stream",
       "stream": "stdout",
       "text": [
        "\n",
        "['09/03/2015 20:19:58', 'TEKANAN', u'temp', 24.48999786376953]\n",
        "storing value: "
       ]
      },
      {
       "output_type": "stream",
       "stream": "stdout",
       "text": [
        "\n",
        "['09/03/2015 20:20:01', 'TEKANAN', u'VOC', 0.006630398784538547]\n",
        "storing value: "
       ]
      },
      {
       "output_type": "stream",
       "stream": "stdout",
       "text": [
        "\n",
        "['09/03/2015 20:20:05', 'TEKANAN', u'hum', 54.367313385009766]\n",
        "storing value: "
       ]
      },
      {
       "output_type": "stream",
       "stream": "stdout",
       "text": [
        "\n",
        "['09/03/2015 20:20:19', 'TEKANAN', u'PART', 0.6200000047683716]\n",
        "storing value: "
       ]
      },
      {
       "output_type": "stream",
       "stream": "stdout",
       "text": [
        "\n",
        "['09/03/2015 20:20:24', 'TEKANAN', u'O3', 116.97334951419273]\n",
        "storing value: "
       ]
      },
      {
       "output_type": "stream",
       "stream": "stdout",
       "text": [
        "\n",
        "['09/03/2015 20:20:28', 'TEKANAN', u'NO2', 0.16624115343508267]\n",
        "{u'CO2': u'double', u'CO': u'double', u'FORM': u'double', u'temp': u'double', u'VOC': u'double', u'hum': u'double', u'PART': u'double', u'O3': u'double', u'NO2': u'double'}"
       ]
      },
      {
       "output_type": "stream",
       "stream": "stdout",
       "text": [
        "\n",
        "storing value: "
       ]
      },
      {
       "output_type": "stream",
       "stream": "stdout",
       "text": [
        "\n",
        "['09/03/2015 20:20:33', 'DALE', u'CO2', 3121.154493047856]\n",
        "storing value: "
       ]
      },
      {
       "output_type": "stream",
       "stream": "stdout",
       "text": [
        "\n",
        "['09/03/2015 20:20:49', 'DALE', u'CO', 2.451043691276365]\n",
        "storing value: "
       ]
      },
      {
       "output_type": "stream",
       "stream": "stdout",
       "text": [
        "\n",
        "['09/03/2015 20:20:53', 'DALE', u'FORM', 0.47644707393940244]\n",
        "storing value: "
       ]
      },
      {
       "output_type": "stream",
       "stream": "stdout",
       "text": [
        "\n",
        "['09/03/2015 20:20:57', 'DALE', u'temp', 615.25]\n",
        "storing value: "
       ]
      },
      {
       "output_type": "stream",
       "stream": "stdout",
       "text": [
        "\n",
        "['09/03/2015 20:21:01', 'DALE', u'VOC', 0]\n",
        "storing value: "
       ]
      },
      {
       "output_type": "stream",
       "stream": "stdout",
       "text": [
        "\n",
        "['09/03/2015 20:21:05', 'DALE', u'hum', -1348.8580322265625]\n",
        "storing value: "
       ]
      },
      {
       "output_type": "stream",
       "stream": "stdout",
       "text": [
        "\n",
        "['09/03/2015 20:21:08', 'DALE', u'PART', 0.6200000047683716]\n",
        "storing value: "
       ]
      },
      {
       "output_type": "stream",
       "stream": "stdout",
       "text": [
        "\n",
        "['09/03/2015 20:21:12', 'DALE', u'O3', 147.25964582027606]\n",
        "storing value: "
       ]
      },
      {
       "output_type": "stream",
       "stream": "stdout",
       "text": [
        "\n",
        "['09/03/2015 20:21:26', 'DALE', u'NO2', 0.180788817976268]\n",
        "{u'CO2': u'double', u'CO': u'double', u'FORM': u'double', u'temp': u'double', u'VOC': u'double', u'hum': u'double', u'PART': u'double', u'O3': u'double', u'NO2': u'double'}"
       ]
      },
      {
       "output_type": "stream",
       "stream": "stdout",
       "text": [
        "\n",
        "storing value: "
       ]
      },
      {
       "output_type": "stream",
       "stream": "stdout",
       "text": [
        "\n",
        "['09/03/2015 20:21:35', 'STARBUCK', u'CO2', 1061538.020128482]\n",
        "storing value: "
       ]
      },
      {
       "output_type": "stream",
       "stream": "stdout",
       "text": [
        "\n",
        "['09/03/2015 20:21:39', 'STARBUCK', u'CO', 2.4055980781005757]\n",
        "storing value: "
       ]
      },
      {
       "output_type": "stream",
       "stream": "stdout",
       "text": [
        "\n",
        "['09/03/2015 20:21:43', 'STARBUCK', u'FORM', 0.8769572493952976]\n",
        "storing value: "
       ]
      },
      {
       "output_type": "stream",
       "stream": "stdout",
       "text": [
        "\n",
        "['09/03/2015 20:21:47', 'STARBUCK', u'temp', 24.69000244140625]\n",
        "storing value: "
       ]
      },
      {
       "output_type": "stream",
       "stream": "stdout",
       "text": [
        "\n",
        "['09/03/2015 20:21:50', 'STARBUCK', u'VOC', 0]\n",
        "storing value: "
       ]
      },
      {
       "output_type": "stream",
       "stream": "stdout",
       "text": [
        "\n",
        "['09/03/2015 20:21:54', 'STARBUCK', u'hum', 54.19757843017578]\n",
        "storing value: "
       ]
      },
      {
       "output_type": "stream",
       "stream": "stdout",
       "text": [
        "\n",
        "['09/03/2015 20:22:10', 'STARBUCK', u'PART', 0.6200000047683716]\n",
        "storing value: "
       ]
      },
      {
       "output_type": "stream",
       "stream": "stdout",
       "text": [
        "\n",
        "['09/03/2015 20:22:14', 'STARBUCK', u'O3', 152.38531349770201]\n",
        "storing value: "
       ]
      },
      {
       "output_type": "stream",
       "stream": "stdout",
       "text": [
        "\n",
        "['09/03/2015 20:22:18', 'STARBUCK', u'NO2', 0.2461796164734185]\n",
        "{u'CO2': u'double', u'CO': u'double', u'FORM': u'double', u'temp': u'double', u'VOC': u'double', u'hum': u'double', u'PART': u'double', u'O3': u'double', u'NO2': u'double'}"
       ]
      },
      {
       "output_type": "stream",
       "stream": "stdout",
       "text": [
        "\n",
        "storing value: "
       ]
      },
      {
       "output_type": "stream",
       "stream": "stdout",
       "text": [
        "\n",
        "['09/03/2015 20:22:23', 'GANZHI', u'CO2', 15759.493818522431]\n",
        "storing value: "
       ]
      },
      {
       "output_type": "stream",
       "stream": "stdout",
       "text": [
        "\n",
        "['09/03/2015 20:22:27', 'GANZHI', u'CO', 3.0151431389973853]\n",
        "storing value: "
       ]
      },
      {
       "output_type": "stream",
       "stream": "stdout",
       "text": [
        "\n",
        "['09/03/2015 20:22:31', 'GANZHI', u'FORM', 0.4845408755510995]\n",
        "storing value: "
       ]
      },
      {
       "output_type": "stream",
       "stream": "stdout",
       "text": [
        "\n",
        "['09/03/2015 20:22:35', 'GANZHI', u'temp', 23.130001068115234]\n",
        "storing value: "
       ]
      },
      {
       "output_type": "stream",
       "stream": "stdout",
       "text": [
        "\n",
        "['09/03/2015 20:22:38', 'GANZHI', u'VOC', 0]\n",
        "storing value: "
       ]
      },
      {
       "output_type": "stream",
       "stream": "stdout",
       "text": [
        "\n",
        "['09/03/2015 20:22:42', 'GANZHI', u'hum', 59.245235443115234]\n",
        "storing value: "
       ]
      },
      {
       "output_type": "stream",
       "stream": "stdout",
       "text": [
        "\n",
        "['09/03/2015 20:22:57', 'GANZHI', u'PART', 0.6200000047683716]\n",
        "storing value: "
       ]
      },
      {
       "output_type": "stream",
       "stream": "stdout",
       "text": [
        "\n",
        "['09/03/2015 20:23:01', 'GANZHI', u'O3', 148.62323338888464]\n",
        "storing value: "
       ]
      },
      {
       "output_type": "stream",
       "stream": "stdout",
       "text": [
        "\n",
        "['09/03/2015 20:23:05', 'GANZHI', u'NO2', 0.23786990114357498]\n",
        "{u'CO2': u'double', u'CO': u'double', u'FORM': u'double', u'temp': u'double', u'VOC': u'double', u'hum': u'double', u'PART': u'double', u'O3': u'double', u'NO2': u'double'}"
       ]
      },
      {
       "output_type": "stream",
       "stream": "stdout",
       "text": [
        "\n",
        "storing value: "
       ]
      },
      {
       "output_type": "stream",
       "stream": "stdout",
       "text": [
        "\n",
        "['09/03/2015 20:23:40', 'CLETUS', u'CO2', 16747.395765387453]\n",
        "storing value: "
       ]
      },
      {
       "output_type": "stream",
       "stream": "stdout",
       "text": [
        "\n",
        "['09/03/2015 20:23:44', 'CLETUS', u'CO', 2.5961313953127774]\n",
        "storing value: "
       ]
      },
      {
       "output_type": "stream",
       "stream": "stdout",
       "text": [
        "\n",
        "['09/03/2015 20:23:48', 'CLETUS', u'FORM', 0.12390221278482053]\n",
        "storing value: "
       ]
      },
      {
       "output_type": "stream",
       "stream": "stdout",
       "text": [
        "\n",
        "['09/03/2015 20:23:52', 'CLETUS', u'temp', 23.779998779296875]\n",
        "storing value: "
       ]
      },
      {
       "output_type": "stream",
       "stream": "stdout",
       "text": [
        "\n",
        "['09/03/2015 20:23:56', 'CLETUS', u'VOC', 0]\n",
        "storing value: "
       ]
      },
      {
       "output_type": "stream",
       "stream": "stdout",
       "text": [
        "\n",
        "['09/03/2015 20:24:07', 'CLETUS', u'hum', 56.23026657104492]\n",
        "storing value: "
       ]
      },
      {
       "output_type": "stream",
       "stream": "stdout",
       "text": [
        "\n",
        "['09/03/2015 20:24:11', 'CLETUS', u'PART', 1886.0479736328125]\n",
        "storing value: "
       ]
      },
      {
       "output_type": "stream",
       "stream": "stdout",
       "text": [
        "\n",
        "['09/03/2015 20:24:15', 'CLETUS', u'O3', 137.76036823922755]\n",
        "storing value: "
       ]
      },
      {
       "output_type": "stream",
       "stream": "stdout",
       "text": [
        "\n",
        "['09/03/2015 20:24:19', 'CLETUS', u'NO2', 0.22217638555396732]\n",
        "{u'CO2': u'double', u'CO': u'double', u'FORM': u'double', u'temp': u'double', u'VOC': u'double', u'hum': u'double', u'PART': u'double', u'O3': u'double', u'NO2': u'double'}"
       ]
      },
      {
       "output_type": "stream",
       "stream": "stdout",
       "text": [
        "\n",
        "storing value: "
       ]
      },
      {
       "output_type": "stream",
       "stream": "stdout",
       "text": [
        "\n",
        "['09/03/2015 20:24:25', 'TEKANAN', u'CO2', 648.8896102728322]\n",
        "storing value: "
       ]
      },
      {
       "output_type": "stream",
       "stream": "stdout",
       "text": [
        "\n",
        "['09/03/2015 20:24:30', 'TEKANAN', u'CO', 3.159380495050526]\n",
        "storing value: "
       ]
      },
      {
       "output_type": "stream",
       "stream": "stdout",
       "text": [
        "\n",
        "['09/03/2015 20:24:34', 'TEKANAN', u'FORM', 1.2591848026482453]\n",
        "storing value: "
       ]
      },
      {
       "output_type": "stream",
       "stream": "stdout",
       "text": [
        "\n",
        "['09/03/2015 20:24:38', 'TEKANAN', u'temp', 24.470001220703125]\n",
        "storing value: "
       ]
      },
      {
       "output_type": "stream",
       "stream": "stdout",
       "text": [
        "\n",
        "['09/03/2015 20:24:42', 'TEKANAN', u'VOC', 0.004092233279049863]\n",
        "storing value: "
       ]
      },
      {
       "output_type": "stream",
       "stream": "stdout",
       "text": [
        "\n",
        "['09/03/2015 20:24:46', 'TEKANAN', u'hum', 53.47911071777344]\n",
        "storing value: "
       ]
      },
      {
       "output_type": "stream",
       "stream": "stdout",
       "text": [
        "\n",
        "['09/03/2015 20:24:59', 'TEKANAN', u'PART', 0.6200000047683716]\n",
        "storing value: "
       ]
      },
      {
       "output_type": "stream",
       "stream": "stdout",
       "text": [
        "\n",
        "['09/03/2015 20:25:03', 'TEKANAN', u'O3', 117.17756885700027]\n",
        "storing value: "
       ]
      },
      {
       "output_type": "stream",
       "stream": "stdout",
       "text": [
        "\n",
        "['09/03/2015 20:25:07', 'TEKANAN', u'NO2', 0.16607774092668287]\n",
        "{u'CO2': u'double', u'CO': u'double', u'FORM': u'double', u'temp': u'double', u'VOC': u'double', u'hum': u'double', u'PART': u'double', u'O3': u'double', u'NO2': u'double'}"
       ]
      },
      {
       "output_type": "stream",
       "stream": "stdout",
       "text": [
        "\n",
        "storing value: "
       ]
      },
      {
       "output_type": "stream",
       "stream": "stdout",
       "text": [
        "\n",
        "['09/03/2015 20:25:23', 'DALE', u'CO2', 1857.4633356863633]\n",
        "storing value: "
       ]
      },
      {
       "output_type": "stream",
       "stream": "stdout",
       "text": [
        "\n",
        "['09/03/2015 20:25:27', 'DALE', u'CO', 2.451043691276365]\n",
        "storing value: "
       ]
      },
      {
       "output_type": "stream",
       "stream": "stdout",
       "text": [
        "\n",
        "['09/03/2015 20:25:30', 'DALE', u'FORM', 0.39344487636854786]\n",
        "storing value: "
       ]
      },
      {
       "output_type": "stream",
       "stream": "stdout",
       "text": [
        "\n",
        "['09/03/2015 20:25:34', 'DALE', u'temp', 615.25]\n",
        "storing value: "
       ]
      },
      {
       "output_type": "stream",
       "stream": "stdout",
       "text": [
        "\n",
        "['09/03/2015 20:25:38', 'DALE', u'VOC', 0]\n",
        "storing value: "
       ]
      },
      {
       "output_type": "stream",
       "stream": "stdout",
       "text": [
        "\n",
        "['09/03/2015 20:25:41', 'DALE', u'hum', -1348.8580322265625]\n",
        "storing value: "
       ]
      },
      {
       "output_type": "stream",
       "stream": "stdout",
       "text": [
        "\n",
        "['09/03/2015 20:25:45', 'DALE', u'PART', 0.6200000047683716]\n",
        "storing value: "
       ]
      },
      {
       "output_type": "stream",
       "stream": "stdout",
       "text": [
        "\n",
        "['09/03/2015 20:26:00', 'DALE', u'O3', 148.1960138316292]\n",
        "storing value: "
       ]
      },
      {
       "output_type": "stream",
       "stream": "stdout",
       "text": [
        "\n",
        "['09/03/2015 20:26:03', 'DALE', u'NO2', 0.180788817976268]\n",
        "{u'CO2': u'double', u'CO': u'double', u'FORM': u'double', u'temp': u'double', u'VOC': u'double', u'hum': u'double', u'PART': u'double', u'O3': u'double', u'NO2': u'double'}"
       ]
      },
      {
       "output_type": "stream",
       "stream": "stdout",
       "text": [
        "\n",
        "storing value: "
       ]
      },
      {
       "output_type": "stream",
       "stream": "stdout",
       "text": [
        "\n",
        "['09/03/2015 20:26:08', 'STARBUCK', u'CO2', 1064767.5924962847]\n",
        "storing value: "
       ]
      },
      {
       "output_type": "stream",
       "stream": "stdout",
       "text": [
        "\n",
        "['09/03/2015 20:26:24', 'STARBUCK', u'CO', 2.3704178423819884]\n",
        "storing value: "
       ]
      },
      {
       "output_type": "stream",
       "stream": "stdout",
       "text": [
        "\n",
        "['09/03/2015 20:26:28', 'STARBUCK', u'FORM', 0.8769572493952976]\n",
        "storing value: "
       ]
      },
      {
       "output_type": "stream",
       "stream": "stdout",
       "text": [
        "\n",
        "['09/03/2015 20:26:32', 'STARBUCK', u'temp', 23.81999969482422]\n",
        "storing value: "
       ]
      },
      {
       "output_type": "stream",
       "stream": "stdout",
       "text": [
        "\n",
        "['09/03/2015 20:26:36', 'STARBUCK', u'VOC', 0]\n",
        "storing value: "
       ]
      },
      {
       "output_type": "stream",
       "stream": "stdout",
       "text": [
        "\n",
        "['09/03/2015 20:26:40', 'STARBUCK', u'hum', 56.55013656616211]\n",
        "storing value: "
       ]
      },
      {
       "output_type": "stream",
       "stream": "stdout",
       "text": [
        "\n",
        "['09/03/2015 20:26:44', 'STARBUCK', u'PART', 0.6200000047683716]\n",
        "storing value: "
       ]
      },
      {
       "output_type": "stream",
       "stream": "stdout",
       "text": [
        "\n",
        "['09/03/2015 20:26:59', 'STARBUCK', u'O3', 152.38531349770201]\n",
        "storing value: "
       ]
      },
      {
       "output_type": "stream",
       "stream": "stdout",
       "text": [
        "\n",
        "['09/03/2015 20:27:02', 'STARBUCK', u'NO2', 0.24658042647111836]\n",
        "{u'CO2': u'double', u'CO': u'double', u'FORM': u'double', u'temp': u'double', u'VOC': u'double', u'hum': u'double', u'PART': u'double', u'O3': u'double', u'NO2': u'double'}"
       ]
      },
      {
       "output_type": "stream",
       "stream": "stdout",
       "text": [
        "\n",
        "storing value: "
       ]
      },
      {
       "output_type": "stream",
       "stream": "stdout",
       "text": [
        "\n",
        "['09/03/2015 20:27:07', 'GANZHI', u'CO2', 12448.555876731873]\n",
        "storing value: "
       ]
      },
      {
       "output_type": "stream",
       "stream": "stdout",
       "text": [
        "\n",
        "['09/03/2015 20:27:23', 'GANZHI', u'CO', 3.0101455177399083]\n",
        "storing value: "
       ]
      },
      {
       "output_type": "stream",
       "stream": "stdout",
       "text": [
        "\n",
        "['09/03/2015 20:27:27', 'GANZHI', u'FORM', 0.40211666530621065]\n",
        "storing value: "
       ]
      },
      {
       "output_type": "stream",
       "stream": "stdout",
       "text": [
        "\n",
        "['09/03/2015 20:27:31', 'GANZHI', u'temp', 23]\n",
        "storing value: "
       ]
      },
      {
       "output_type": "stream",
       "stream": "stdout",
       "text": [
        "\n",
        "['09/03/2015 20:27:35', 'GANZHI', u'VOC', 0]\n",
        "storing value: "
       ]
      },
      {
       "output_type": "stream",
       "stream": "stdout",
       "text": [
        "\n",
        "['09/03/2015 20:27:39', 'GANZHI', u'hum', 59.5763053894043]\n",
        "storing value: "
       ]
      },
      {
       "output_type": "stream",
       "stream": "stdout",
       "text": [
        "\n",
        "['09/03/2015 20:27:43', 'GANZHI', u'PART', 0.6200000047683716]\n",
        "storing value: "
       ]
      },
      {
       "output_type": "stream",
       "stream": "stdout",
       "text": [
        "\n",
        "['09/03/2015 20:27:47', 'GANZHI', u'O3', 148.62323338888464]\n",
        "storing value: "
       ]
      },
      {
       "output_type": "stream",
       "stream": "stdout",
       "text": [
        "\n",
        "['09/03/2015 20:27:56', 'GANZHI', u'NO2', 0.23786990114357498]\n",
        "{u'CO2': u'double', u'CO': u'double', u'FORM': u'double', u'temp': u'double', u'VOC': u'double', u'hum': u'double', u'PART': u'double', u'O3': u'double', u'NO2': u'double'}"
       ]
      },
      {
       "output_type": "stream",
       "stream": "stdout",
       "text": [
        "\n",
        "storing value: "
       ]
      },
      {
       "output_type": "stream",
       "stream": "stdout",
       "text": [
        "\n",
        "['09/03/2015 20:28:30', 'CLETUS', u'CO2', 15953.820508691482]\n",
        "storing value: "
       ]
      },
      {
       "output_type": "stream",
       "stream": "stdout",
       "text": [
        "\n",
        "['09/03/2015 20:28:36', 'CLETUS', u'CO', 2.5961313953127774]\n",
        "storing value: "
       ]
      },
      {
       "output_type": "stream",
       "stream": "stdout",
       "text": [
        "\n",
        "['09/03/2015 20:28:40', 'CLETUS', u'FORM', 0.10430829880469543]\n",
        "storing value: "
       ]
      },
      {
       "output_type": "stream",
       "stream": "stdout",
       "text": [
        "\n",
        "['09/03/2015 20:28:44', 'CLETUS', u'temp', 24.160003662109375]\n",
        "storing value: "
       ]
      },
      {
       "output_type": "stream",
       "stream": "stdout",
       "text": [
        "\n",
        "['09/03/2015 20:28:48', 'CLETUS', u'VOC', 0]\n",
        "storing value: "
       ]
      },
      {
       "output_type": "stream",
       "stream": "stdout",
       "text": [
        "\n",
        "['09/03/2015 20:28:52', 'CLETUS', u'hum', 55.340187072753906]\n",
        "storing value: "
       ]
      },
      {
       "output_type": "stream",
       "stream": "stdout",
       "text": [
        "\n",
        "['09/03/2015 20:28:56', 'CLETUS', u'PART', 54.71206283569336]\n",
        "storing value: "
       ]
      },
      {
       "output_type": "stream",
       "stream": "stdout",
       "text": [
        "\n",
        "['09/03/2015 20:29:00', 'CLETUS', u'O3', 140.62980959299964]\n"
       ]
      },
      {
       "ename": "BadStatusLine",
       "evalue": "''",
       "output_type": "pyerr",
       "traceback": [
        "\u001b[0;31m---------------------------------------------------------------------------\u001b[0m\n\u001b[0;31mBadStatusLine\u001b[0m                             Traceback (most recent call last)",
        "\u001b[0;32m<ipython-input-2-eae148c3ab99>\u001b[0m in \u001b[0;36m<module>\u001b[0;34m()\u001b[0m\n\u001b[1;32m     52\u001b[0m                         \u001b[0murl\u001b[0m \u001b[0;34m=\u001b[0m \u001b[0;34m'https://api.spark.io/v1/devices/'\u001b[0m \u001b[0;34m+\u001b[0m \u001b[0mi\u001b[0m \u001b[0;34m+\u001b[0m \u001b[0;34m'/'\u001b[0m \u001b[0;34m+\u001b[0m \u001b[0mk\u001b[0m \u001b[0;34m+\u001b[0m \u001b[0;34m'?access_token='\u001b[0m \u001b[0;34m+\u001b[0m \u001b[0maccess_token\u001b[0m\u001b[0;34m\u001b[0m\u001b[0m\n\u001b[1;32m     53\u001b[0m                         \u001b[0;31m#print url\u001b[0m\u001b[0;34m\u001b[0m\u001b[0;34m\u001b[0m\u001b[0m\n\u001b[0;32m---> 54\u001b[0;31m                         \u001b[0mresponse\u001b[0m \u001b[0;34m=\u001b[0m \u001b[0murlopen\u001b[0m\u001b[0;34m(\u001b[0m\u001b[0murl\u001b[0m\u001b[0;34m)\u001b[0m\u001b[0;34m\u001b[0m\u001b[0m\n\u001b[0m\u001b[1;32m     55\u001b[0m                         \u001b[0mstring\u001b[0m \u001b[0;34m=\u001b[0m \u001b[0mresponse\u001b[0m\u001b[0;34m.\u001b[0m\u001b[0mread\u001b[0m\u001b[0;34m(\u001b[0m\u001b[0;34m)\u001b[0m\u001b[0;34m\u001b[0m\u001b[0m\n\u001b[1;32m     56\u001b[0m                         \u001b[0mJSON_response\u001b[0m \u001b[0;34m=\u001b[0m \u001b[0mjson\u001b[0m\u001b[0;34m.\u001b[0m\u001b[0mloads\u001b[0m\u001b[0;34m(\u001b[0m\u001b[0mstring\u001b[0m\u001b[0;34m)\u001b[0m\u001b[0;34m\u001b[0m\u001b[0m\n",
        "\u001b[0;32m//anaconda/lib/python2.7/urllib2.pyc\u001b[0m in \u001b[0;36murlopen\u001b[0;34m(url, data, timeout, cafile, capath, cadefault, context)\u001b[0m\n\u001b[1;32m    152\u001b[0m     \u001b[0;32melse\u001b[0m\u001b[0;34m:\u001b[0m\u001b[0;34m\u001b[0m\u001b[0m\n\u001b[1;32m    153\u001b[0m         \u001b[0mopener\u001b[0m \u001b[0;34m=\u001b[0m \u001b[0m_opener\u001b[0m\u001b[0;34m\u001b[0m\u001b[0m\n\u001b[0;32m--> 154\u001b[0;31m     \u001b[0;32mreturn\u001b[0m \u001b[0mopener\u001b[0m\u001b[0;34m.\u001b[0m\u001b[0mopen\u001b[0m\u001b[0;34m(\u001b[0m\u001b[0murl\u001b[0m\u001b[0;34m,\u001b[0m \u001b[0mdata\u001b[0m\u001b[0;34m,\u001b[0m \u001b[0mtimeout\u001b[0m\u001b[0;34m)\u001b[0m\u001b[0;34m\u001b[0m\u001b[0m\n\u001b[0m\u001b[1;32m    155\u001b[0m \u001b[0;34m\u001b[0m\u001b[0m\n\u001b[1;32m    156\u001b[0m \u001b[0;32mdef\u001b[0m \u001b[0minstall_opener\u001b[0m\u001b[0;34m(\u001b[0m\u001b[0mopener\u001b[0m\u001b[0;34m)\u001b[0m\u001b[0;34m:\u001b[0m\u001b[0;34m\u001b[0m\u001b[0m\n",
        "\u001b[0;32m//anaconda/lib/python2.7/urllib2.pyc\u001b[0m in \u001b[0;36mopen\u001b[0;34m(self, fullurl, data, timeout)\u001b[0m\n\u001b[1;32m    429\u001b[0m             \u001b[0mreq\u001b[0m \u001b[0;34m=\u001b[0m \u001b[0mmeth\u001b[0m\u001b[0;34m(\u001b[0m\u001b[0mreq\u001b[0m\u001b[0;34m)\u001b[0m\u001b[0;34m\u001b[0m\u001b[0m\n\u001b[1;32m    430\u001b[0m \u001b[0;34m\u001b[0m\u001b[0m\n\u001b[0;32m--> 431\u001b[0;31m         \u001b[0mresponse\u001b[0m \u001b[0;34m=\u001b[0m \u001b[0mself\u001b[0m\u001b[0;34m.\u001b[0m\u001b[0m_open\u001b[0m\u001b[0;34m(\u001b[0m\u001b[0mreq\u001b[0m\u001b[0;34m,\u001b[0m \u001b[0mdata\u001b[0m\u001b[0;34m)\u001b[0m\u001b[0;34m\u001b[0m\u001b[0m\n\u001b[0m\u001b[1;32m    432\u001b[0m \u001b[0;34m\u001b[0m\u001b[0m\n\u001b[1;32m    433\u001b[0m         \u001b[0;31m# post-process response\u001b[0m\u001b[0;34m\u001b[0m\u001b[0;34m\u001b[0m\u001b[0m\n",
        "\u001b[0;32m//anaconda/lib/python2.7/urllib2.pyc\u001b[0m in \u001b[0;36m_open\u001b[0;34m(self, req, data)\u001b[0m\n\u001b[1;32m    447\u001b[0m         \u001b[0mprotocol\u001b[0m \u001b[0;34m=\u001b[0m \u001b[0mreq\u001b[0m\u001b[0;34m.\u001b[0m\u001b[0mget_type\u001b[0m\u001b[0;34m(\u001b[0m\u001b[0;34m)\u001b[0m\u001b[0;34m\u001b[0m\u001b[0m\n\u001b[1;32m    448\u001b[0m         result = self._call_chain(self.handle_open, protocol, protocol +\n\u001b[0;32m--> 449\u001b[0;31m                                   '_open', req)\n\u001b[0m\u001b[1;32m    450\u001b[0m         \u001b[0;32mif\u001b[0m \u001b[0mresult\u001b[0m\u001b[0;34m:\u001b[0m\u001b[0;34m\u001b[0m\u001b[0m\n\u001b[1;32m    451\u001b[0m             \u001b[0;32mreturn\u001b[0m \u001b[0mresult\u001b[0m\u001b[0;34m\u001b[0m\u001b[0m\n",
        "\u001b[0;32m//anaconda/lib/python2.7/urllib2.pyc\u001b[0m in \u001b[0;36m_call_chain\u001b[0;34m(self, chain, kind, meth_name, *args)\u001b[0m\n\u001b[1;32m    407\u001b[0m             \u001b[0mfunc\u001b[0m \u001b[0;34m=\u001b[0m \u001b[0mgetattr\u001b[0m\u001b[0;34m(\u001b[0m\u001b[0mhandler\u001b[0m\u001b[0;34m,\u001b[0m \u001b[0mmeth_name\u001b[0m\u001b[0;34m)\u001b[0m\u001b[0;34m\u001b[0m\u001b[0m\n\u001b[1;32m    408\u001b[0m \u001b[0;34m\u001b[0m\u001b[0m\n\u001b[0;32m--> 409\u001b[0;31m             \u001b[0mresult\u001b[0m \u001b[0;34m=\u001b[0m \u001b[0mfunc\u001b[0m\u001b[0;34m(\u001b[0m\u001b[0;34m*\u001b[0m\u001b[0margs\u001b[0m\u001b[0;34m)\u001b[0m\u001b[0;34m\u001b[0m\u001b[0m\n\u001b[0m\u001b[1;32m    410\u001b[0m             \u001b[0;32mif\u001b[0m \u001b[0mresult\u001b[0m \u001b[0;32mis\u001b[0m \u001b[0;32mnot\u001b[0m \u001b[0mNone\u001b[0m\u001b[0;34m:\u001b[0m\u001b[0;34m\u001b[0m\u001b[0m\n\u001b[1;32m    411\u001b[0m                 \u001b[0;32mreturn\u001b[0m \u001b[0mresult\u001b[0m\u001b[0;34m\u001b[0m\u001b[0m\n",
        "\u001b[0;32m//anaconda/lib/python2.7/urllib2.pyc\u001b[0m in \u001b[0;36mhttps_open\u001b[0;34m(self, req)\u001b[0m\n\u001b[1;32m   1238\u001b[0m         \u001b[0;32mdef\u001b[0m \u001b[0mhttps_open\u001b[0m\u001b[0;34m(\u001b[0m\u001b[0mself\u001b[0m\u001b[0;34m,\u001b[0m \u001b[0mreq\u001b[0m\u001b[0;34m)\u001b[0m\u001b[0;34m:\u001b[0m\u001b[0;34m\u001b[0m\u001b[0m\n\u001b[1;32m   1239\u001b[0m             return self.do_open(httplib.HTTPSConnection, req,\n\u001b[0;32m-> 1240\u001b[0;31m                 context=self._context)\n\u001b[0m\u001b[1;32m   1241\u001b[0m \u001b[0;34m\u001b[0m\u001b[0m\n\u001b[1;32m   1242\u001b[0m         \u001b[0mhttps_request\u001b[0m \u001b[0;34m=\u001b[0m \u001b[0mAbstractHTTPHandler\u001b[0m\u001b[0;34m.\u001b[0m\u001b[0mdo_request_\u001b[0m\u001b[0;34m\u001b[0m\u001b[0m\n",
        "\u001b[0;32m//anaconda/lib/python2.7/urllib2.pyc\u001b[0m in \u001b[0;36mdo_open\u001b[0;34m(self, http_class, req, **http_conn_args)\u001b[0m\n\u001b[1;32m   1198\u001b[0m         \u001b[0;32melse\u001b[0m\u001b[0;34m:\u001b[0m\u001b[0;34m\u001b[0m\u001b[0m\n\u001b[1;32m   1199\u001b[0m             \u001b[0;32mtry\u001b[0m\u001b[0;34m:\u001b[0m\u001b[0;34m\u001b[0m\u001b[0m\n\u001b[0;32m-> 1200\u001b[0;31m                 \u001b[0mr\u001b[0m \u001b[0;34m=\u001b[0m \u001b[0mh\u001b[0m\u001b[0;34m.\u001b[0m\u001b[0mgetresponse\u001b[0m\u001b[0;34m(\u001b[0m\u001b[0mbuffering\u001b[0m\u001b[0;34m=\u001b[0m\u001b[0mTrue\u001b[0m\u001b[0;34m)\u001b[0m\u001b[0;34m\u001b[0m\u001b[0m\n\u001b[0m\u001b[1;32m   1201\u001b[0m             \u001b[0;32mexcept\u001b[0m \u001b[0mTypeError\u001b[0m\u001b[0;34m:\u001b[0m \u001b[0;31m# buffering kw not supported\u001b[0m\u001b[0;34m\u001b[0m\u001b[0m\n\u001b[1;32m   1202\u001b[0m                 \u001b[0mr\u001b[0m \u001b[0;34m=\u001b[0m \u001b[0mh\u001b[0m\u001b[0;34m.\u001b[0m\u001b[0mgetresponse\u001b[0m\u001b[0;34m(\u001b[0m\u001b[0;34m)\u001b[0m\u001b[0;34m\u001b[0m\u001b[0m\n",
        "\u001b[0;32m//anaconda/lib/python2.7/httplib.pyc\u001b[0m in \u001b[0;36mgetresponse\u001b[0;34m(self, buffering)\u001b[0m\n\u001b[1;32m   1071\u001b[0m         \u001b[0mresponse\u001b[0m \u001b[0;34m=\u001b[0m \u001b[0mself\u001b[0m\u001b[0;34m.\u001b[0m\u001b[0mresponse_class\u001b[0m\u001b[0;34m(\u001b[0m\u001b[0;34m*\u001b[0m\u001b[0margs\u001b[0m\u001b[0;34m,\u001b[0m \u001b[0;34m**\u001b[0m\u001b[0mkwds\u001b[0m\u001b[0;34m)\u001b[0m\u001b[0;34m\u001b[0m\u001b[0m\n\u001b[1;32m   1072\u001b[0m \u001b[0;34m\u001b[0m\u001b[0m\n\u001b[0;32m-> 1073\u001b[0;31m         \u001b[0mresponse\u001b[0m\u001b[0;34m.\u001b[0m\u001b[0mbegin\u001b[0m\u001b[0;34m(\u001b[0m\u001b[0;34m)\u001b[0m\u001b[0;34m\u001b[0m\u001b[0m\n\u001b[0m\u001b[1;32m   1074\u001b[0m         \u001b[0;32massert\u001b[0m \u001b[0mresponse\u001b[0m\u001b[0;34m.\u001b[0m\u001b[0mwill_close\u001b[0m \u001b[0;34m!=\u001b[0m \u001b[0m_UNKNOWN\u001b[0m\u001b[0;34m\u001b[0m\u001b[0m\n\u001b[1;32m   1075\u001b[0m         \u001b[0mself\u001b[0m\u001b[0;34m.\u001b[0m\u001b[0m__state\u001b[0m \u001b[0;34m=\u001b[0m \u001b[0m_CS_IDLE\u001b[0m\u001b[0;34m\u001b[0m\u001b[0m\n",
        "\u001b[0;32m//anaconda/lib/python2.7/httplib.pyc\u001b[0m in \u001b[0;36mbegin\u001b[0;34m(self)\u001b[0m\n\u001b[1;32m    413\u001b[0m         \u001b[0;31m# read until we get a non-100 response\u001b[0m\u001b[0;34m\u001b[0m\u001b[0;34m\u001b[0m\u001b[0m\n\u001b[1;32m    414\u001b[0m         \u001b[0;32mwhile\u001b[0m \u001b[0mTrue\u001b[0m\u001b[0;34m:\u001b[0m\u001b[0;34m\u001b[0m\u001b[0m\n\u001b[0;32m--> 415\u001b[0;31m             \u001b[0mversion\u001b[0m\u001b[0;34m,\u001b[0m \u001b[0mstatus\u001b[0m\u001b[0;34m,\u001b[0m \u001b[0mreason\u001b[0m \u001b[0;34m=\u001b[0m \u001b[0mself\u001b[0m\u001b[0;34m.\u001b[0m\u001b[0m_read_status\u001b[0m\u001b[0;34m(\u001b[0m\u001b[0;34m)\u001b[0m\u001b[0;34m\u001b[0m\u001b[0m\n\u001b[0m\u001b[1;32m    416\u001b[0m             \u001b[0;32mif\u001b[0m \u001b[0mstatus\u001b[0m \u001b[0;34m!=\u001b[0m \u001b[0mCONTINUE\u001b[0m\u001b[0;34m:\u001b[0m\u001b[0;34m\u001b[0m\u001b[0m\n\u001b[1;32m    417\u001b[0m                 \u001b[0;32mbreak\u001b[0m\u001b[0;34m\u001b[0m\u001b[0m\n",
        "\u001b[0;32m//anaconda/lib/python2.7/httplib.pyc\u001b[0m in \u001b[0;36m_read_status\u001b[0;34m(self)\u001b[0m\n\u001b[1;32m    377\u001b[0m             \u001b[0;31m# Presumably, the server closed the connection before\u001b[0m\u001b[0;34m\u001b[0m\u001b[0;34m\u001b[0m\u001b[0m\n\u001b[1;32m    378\u001b[0m             \u001b[0;31m# sending a valid response.\u001b[0m\u001b[0;34m\u001b[0m\u001b[0;34m\u001b[0m\u001b[0m\n\u001b[0;32m--> 379\u001b[0;31m             \u001b[0;32mraise\u001b[0m \u001b[0mBadStatusLine\u001b[0m\u001b[0;34m(\u001b[0m\u001b[0mline\u001b[0m\u001b[0;34m)\u001b[0m\u001b[0;34m\u001b[0m\u001b[0m\n\u001b[0m\u001b[1;32m    380\u001b[0m         \u001b[0;32mtry\u001b[0m\u001b[0;34m:\u001b[0m\u001b[0;34m\u001b[0m\u001b[0m\n\u001b[1;32m    381\u001b[0m             \u001b[0;34m[\u001b[0m\u001b[0mversion\u001b[0m\u001b[0;34m,\u001b[0m \u001b[0mstatus\u001b[0m\u001b[0;34m,\u001b[0m \u001b[0mreason\u001b[0m\u001b[0;34m]\u001b[0m \u001b[0;34m=\u001b[0m \u001b[0mline\u001b[0m\u001b[0;34m.\u001b[0m\u001b[0msplit\u001b[0m\u001b[0;34m(\u001b[0m\u001b[0mNone\u001b[0m\u001b[0;34m,\u001b[0m \u001b[0;36m2\u001b[0m\u001b[0;34m)\u001b[0m\u001b[0;34m\u001b[0m\u001b[0m\n",
        "\u001b[0;31mBadStatusLine\u001b[0m: ''"
       ]
      }
     ],
     "prompt_number": 2
    },
    {
     "cell_type": "code",
     "collapsed": false,
     "input": [],
     "language": "python",
     "metadata": {},
     "outputs": [],
     "prompt_number": 8
    },
    {
     "cell_type": "code",
     "collapsed": false,
     "input": [],
     "language": "python",
     "metadata": {},
     "outputs": []
    }
   ],
   "metadata": {}
  }
 ]
}